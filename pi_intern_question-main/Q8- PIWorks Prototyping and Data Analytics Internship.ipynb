{
 "cells": [
  {
   "cell_type": "code",
   "execution_count": 2,
   "metadata": {},
   "outputs": [],
   "source": [
    "import re"
   ]
  },
  {
   "cell_type": "code",
   "execution_count": 3,
   "metadata": {},
   "outputs": [
    {
     "name": "stdout",
     "output_type": "stream",
     "text": [
      "give me the Stats_Access_Link: <url>http://yT5495.smart_meter.com</url>\n",
      "yT5495.smart_meter.com\n"
     ]
    }
   ],
   "source": [
    "input_val = input(\"give me the Stats_Access_Link: \")\n",
    "a = re.findall(r'[a-zA-Z_.]\\w*',input_val)\n",
    "b = \"\"\n",
    "\n",
    "for i in a:\n",
    "    if 'https' in a:\n",
    "        if ((i != 'https') and (i != 'url')):\n",
    "            b = b + i\n",
    "        else:\n",
    "            b = b\n",
    "    elif 'http' in a:\n",
    "        if((i != 'http') and (i != 'url')):\n",
    "            b = b + i\n",
    "        else:\n",
    "            b = b\n",
    "            \n",
    "print(b)\n",
    "# <url>http://yT5495.smart_meter.com</url>"
   ]
  },
  {
   "cell_type": "code",
   "execution_count": 4,
   "metadata": {},
   "outputs": [
    {
     "name": "stdout",
     "output_type": "stream",
     "text": [
      "give me the Stats_Access_Link: <url>https://xcd32112.smart_meter.com</url>\n",
      "xcd32112.smart_meter.com\n"
     ]
    }
   ],
   "source": [
    "input_val1 = input(\"give me the Stats_Access_Link: \")\n",
    "a1 = re.findall(r'[a-zA-Z_.]\\w*',input_val1)\n",
    "b1 = \"\"\n",
    "\n",
    "for i1 in a1:\n",
    "    if 'https' in a1:\n",
    "        if ((i1 != 'https') and (i1 != 'url')):\n",
    "            b1 = b1 + i1\n",
    "        else:\n",
    "            b1 = b1\n",
    "    elif 'http' in a1:\n",
    "        if((i1 != 'http') and (i1 != 'url')):\n",
    "            b1 = b1 + i1\n",
    "        else:\n",
    "            b1 = b1\n",
    "            \n",
    "print(b1)\n",
    "# <url>https://xcd32112.smart_meter.com</url>"
   ]
  }
 ],
 "metadata": {
  "kernelspec": {
   "display_name": "Python 3",
   "language": "python",
   "name": "python3"
  },
  "language_info": {
   "codemirror_mode": {
    "name": "ipython",
    "version": 3
   },
   "file_extension": ".py",
   "mimetype": "text/x-python",
   "name": "python",
   "nbconvert_exporter": "python",
   "pygments_lexer": "ipython3",
   "version": "3.7.4"
  }
 },
 "nbformat": 4,
 "nbformat_minor": 4
}
