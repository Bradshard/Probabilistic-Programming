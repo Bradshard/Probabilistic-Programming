{
 "cells": [
  {
   "cell_type": "markdown",
   "metadata": {},
   "source": [
    "![image.png](pear.png)"
   ]
  },
  {
   "cell_type": "markdown",
   "metadata": {},
   "source": [
    "***"
   ]
  },
  {
   "cell_type": "markdown",
   "metadata": {},
   "source": [
    "# Welcome to Pear Inc. \n",
    "\n",
    "Hi there! \n",
    "My name is Robert! You can call me Bob 😉. <br>\n",
    "I'm the communications officer (fancy title ha!) in our glorious company 😇.\n",
    "My job is to help facilitate product development and market penetration 🤓. <br>\n",
    "I spent endless hours talking to engineers, product managers, and  customers 😱  \n",
    "\n",
    "Since we are a 20 people start-up (All of us have fancy names 😂), I also do some recruiting from time to time 💪 <br>\n",
    "We are looking for **brave souls who are not afraid of a challenge and will help us** with our new product line of smart t-shirts! 🧐 <br> \n",
    "\n",
    "(Our CEO believes that smart t-shirts are the right direction for some reason 😅 I guess if you make something nobody needs, you won't have to sell it 🤓) <br>\n",
    "\n",
    "Let me tell you a little bit more about our problem that you can help us with:<br>\n",
    "We are creating a life changing smart t-shirt which has bluetooth and connects to your phone 🥳. They will be customizable outfits through downloaded applications. Our smart t-shirt will be developed with Google Wear OS which is a version of Google's Android operating system designed for smartwatches and other wearables. So users will be able to install custom programs through Google Play Store 🤭. <br> And we will sell them for 999.9$ a piece 💰💰💰<br>\n",
    "But our engineers wanted to ensure that only Pear Inc. approved programs can be installed on our t-shirts because\n",
    "market analysis showed that potential customers are afraid of ransomware that will break their \"*premium*\" t-shirts 🤦‍. So we need an antivirus for approving apps on the fly! <br>However, we don't want to install an off the shelf antivirus to our t-shirts 🤫, because BIG profit margins matter 🏦!\n",
    "\n",
    "##### Enough chit-chat!\n",
    "Let's get down to the business of why I contacted you: <br>\n",
    "Our bright engineers came up with an algorithm that creates compressed signatures for the apps in the Google Play Store. It is called '*manifold averaging generally intelligent compressor*' or as we call it 'MAGIC'. <br>\n",
    "The engineers told us that the outputs of MAGIC reflect the statistical properties of the uncompressed apps (whatever that may mean! 🤦‍). <br> MAGIC takes a Google Play Store app as an input and outputs a 4 dimensional numerical signature (they called it a vector but calling it a vector is not fancy enough for marketing! 🤪).   \n",
    "\n",
    "Now, since these signatures are just numbers, an off the shelf antivirus can't work with them (even if it could, we can't install an off the shelf antivirus into our t-shirts -- too much computing power and space is needed). Therefore **we need a light weight proof of concept that takes these signatures as inputs and outputs labels (virus or not) for them.** We eventually want to install your program into our smart t-shirts, where it will scan a Google Play Store app (its signature to be precise!) and stop the app's execution if it thinks the app is a virus! But we are not going so far just yet so you only need to create the pipeline that take the signatures, and output labels for them. Don't worry about the rest, it is just a proof of concept at the end 😉. We are providing the dataset for you to develop your model.\n",
    "\n",
    "In a nutshell: \n",
    "- There 4 dimensional (4 feature) numerical inputs (signatures) with labels!\n",
    "- We need a simple model that takes these inputs and labels them (Virus, Not a Virus)\n",
    "- We also need you to evaluate your model. Choose any metric you want, but don't forget to explain why, since I don't know much about this field (that is why we need your help!)\n",
    "\n",
    "Things to keep in mind:\n",
    "- There are less 'Virus' in the dataset than 'Not a Virus'. (Naturally!)\n",
    "- While we call it MAGIC, it still sometimes doesn't work well 🤦‍, so there are signatures with missing features (missing values).\n",
    "- I don't know much about these things so please show your work, your thinking process and please make it as clear as possible, otherwise I get confused 😵. (Visualizations of the data and comments in your code would be great!)\n",
    "\n",
    "***\n",
    "##### Let me describe the dataset, and you are ready to get to work!\n",
    "\n",
    "It is a CSV file. Each row represents a signature for an app. First 4 columns from left to right represent dimensions (features) and the last column is the label (isVirus: True or False). \n",
    "\n",
    "- Visualize the data (so that people like me can understand!)\n",
    "- Clean up the data (balance it out, impute missing values and so on... depending on the method you are going to use!)\n",
    "- Visualize the cleaned data (so that people like me can understand the effect of cleaning process!)\n",
    "- Create a simple model that performs reasonably well. (If it doesn't perform well, comment on why and how to improve it!)\n",
    "- Evaluate the model with a testset you will create from the dataset. (Pretty plots make things easier to understand)\n",
    "- Upload your code to a private github repo you can share with us, and invite us (https://github.com/tarikkranda, https://github.com/ltc0060 and https://github.com/ahmetkoklu) as collaborators so only we can see our super-secret project. \n",
    "\n",
    "And you are done! (Don't forget to comment, and show your work please 🤓)\n"
   ]
  },
  {
   "cell_type": "markdown",
   "metadata": {},
   "source": [
    "### SOLUTION :\n"
   ]
  },
  {
   "cell_type": "code",
   "execution_count": 1,
   "metadata": {},
   "outputs": [],
   "source": [
    "# Your code here!\n",
    "import pandas as pd\n",
    "import math\n",
    "import arviz as az\n",
    "import numpy as np\n",
    "import matplotlib.pyplot as plt\n",
    "import random\n"
   ]
  },
  {
   "cell_type": "code",
   "execution_count": 2,
   "metadata": {},
   "outputs": [
    {
     "data": {
      "text/html": [
       "<div>\n",
       "<style scoped>\n",
       "    .dataframe tbody tr th:only-of-type {\n",
       "        vertical-align: middle;\n",
       "    }\n",
       "\n",
       "    .dataframe tbody tr th {\n",
       "        vertical-align: top;\n",
       "    }\n",
       "\n",
       "    .dataframe thead th {\n",
       "        text-align: right;\n",
       "    }\n",
       "</style>\n",
       "<table border=\"1\" class=\"dataframe\">\n",
       "  <thead>\n",
       "    <tr style=\"text-align: right;\">\n",
       "      <th></th>\n",
       "      <th>feature_1</th>\n",
       "      <th>feature_2</th>\n",
       "      <th>feature_3</th>\n",
       "      <th>feature_4</th>\n",
       "      <th>isVirus</th>\n",
       "    </tr>\n",
       "  </thead>\n",
       "  <tbody>\n",
       "    <tr>\n",
       "      <th>0</th>\n",
       "      <td>-0.233467</td>\n",
       "      <td>0.308799</td>\n",
       "      <td>2.484015</td>\n",
       "      <td>1.732721</td>\n",
       "      <td>False</td>\n",
       "    </tr>\n",
       "    <tr>\n",
       "      <th>1</th>\n",
       "      <td>1.519003</td>\n",
       "      <td>1.238482</td>\n",
       "      <td>3.344450</td>\n",
       "      <td>0.783744</td>\n",
       "      <td>False</td>\n",
       "    </tr>\n",
       "    <tr>\n",
       "      <th>2</th>\n",
       "      <td>0.400640</td>\n",
       "      <td>1.916748</td>\n",
       "      <td>3.291096</td>\n",
       "      <td>-0.918519</td>\n",
       "      <td>False</td>\n",
       "    </tr>\n",
       "    <tr>\n",
       "      <th>3</th>\n",
       "      <td>-1.616474</td>\n",
       "      <td>0.209703</td>\n",
       "      <td>1.461544</td>\n",
       "      <td>-0.291837</td>\n",
       "      <td>False</td>\n",
       "    </tr>\n",
       "    <tr>\n",
       "      <th>4</th>\n",
       "      <td>1.480515</td>\n",
       "      <td>5.299829</td>\n",
       "      <td>2.640670</td>\n",
       "      <td>1.867559</td>\n",
       "      <td>True</td>\n",
       "    </tr>\n",
       "    <tr>\n",
       "      <th>5</th>\n",
       "      <td>1.239941</td>\n",
       "      <td>5.364270</td>\n",
       "      <td>1.279281</td>\n",
       "      <td>0.938585</td>\n",
       "      <td>True</td>\n",
       "    </tr>\n",
       "    <tr>\n",
       "      <th>6</th>\n",
       "      <td>0.003583</td>\n",
       "      <td>-0.027756</td>\n",
       "      <td>3.048730</td>\n",
       "      <td>NaN</td>\n",
       "      <td>True</td>\n",
       "    </tr>\n",
       "    <tr>\n",
       "      <th>7</th>\n",
       "      <td>-0.286887</td>\n",
       "      <td>0.905702</td>\n",
       "      <td>1.924124</td>\n",
       "      <td>NaN</td>\n",
       "      <td>True</td>\n",
       "    </tr>\n",
       "    <tr>\n",
       "      <th>8</th>\n",
       "      <td>-0.898322</td>\n",
       "      <td>-1.198319</td>\n",
       "      <td>0.694305</td>\n",
       "      <td>0.802052</td>\n",
       "      <td>True</td>\n",
       "    </tr>\n",
       "    <tr>\n",
       "      <th>9</th>\n",
       "      <td>-1.084037</td>\n",
       "      <td>0.509091</td>\n",
       "      <td>2.268160</td>\n",
       "      <td>0.351780</td>\n",
       "      <td>True</td>\n",
       "    </tr>\n",
       "  </tbody>\n",
       "</table>\n",
       "</div>"
      ],
      "text/plain": [
       "   feature_1  feature_2  feature_3  feature_4  isVirus\n",
       "0  -0.233467   0.308799   2.484015   1.732721    False\n",
       "1   1.519003   1.238482   3.344450   0.783744    False\n",
       "2   0.400640   1.916748   3.291096  -0.918519    False\n",
       "3  -1.616474   0.209703   1.461544  -0.291837    False\n",
       "4   1.480515   5.299829   2.640670   1.867559     True\n",
       "5   1.239941   5.364270   1.279281   0.938585     True\n",
       "6   0.003583  -0.027756   3.048730        NaN     True\n",
       "7  -0.286887   0.905702   1.924124        NaN     True\n",
       "8  -0.898322  -1.198319   0.694305   0.802052     True\n",
       "9  -1.084037   0.509091   2.268160   0.351780     True"
      ]
     },
     "execution_count": 2,
     "metadata": {},
     "output_type": "execute_result"
    }
   ],
   "source": [
    "data = pd.read_csv(\"dataset.csv\")\n",
    "data.head(10)"
   ]
  },
  {
   "cell_type": "code",
   "execution_count": 3,
   "metadata": {},
   "outputs": [
    {
     "data": {
      "text/plain": [
       "1999"
      ]
     },
     "execution_count": 3,
     "metadata": {},
     "output_type": "execute_result"
    }
   ],
   "source": [
    "leng = len(data)\n",
    "leng"
   ]
  },
  {
   "cell_type": "markdown",
   "metadata": {},
   "source": [
    "We will use length of the data to find how many random samples we need to use for each feature in the one $\\sigma$ field."
   ]
  },
  {
   "cell_type": "code",
   "execution_count": 4,
   "metadata": {},
   "outputs": [
    {
     "name": "stdout",
     "output_type": "stream",
     "text": [
      "True\n"
     ]
    }
   ],
   "source": [
    "check_for_nan_1 = data['feature_1'].isnull().values.any()\n",
    "print(check_for_nan_1)"
   ]
  },
  {
   "cell_type": "code",
   "execution_count": 5,
   "metadata": {},
   "outputs": [
    {
     "name": "stdout",
     "output_type": "stream",
     "text": [
      "True\n"
     ]
    }
   ],
   "source": [
    "check_for_nan_2 = data['feature_2'].isnull().values.any()\n",
    "print(check_for_nan_2)"
   ]
  },
  {
   "cell_type": "code",
   "execution_count": 6,
   "metadata": {},
   "outputs": [
    {
     "name": "stdout",
     "output_type": "stream",
     "text": [
      "True\n"
     ]
    }
   ],
   "source": [
    "check_for_nan_3 = data['feature_3'].isnull().values.any()\n",
    "print(check_for_nan_3)"
   ]
  },
  {
   "cell_type": "code",
   "execution_count": 7,
   "metadata": {},
   "outputs": [
    {
     "name": "stdout",
     "output_type": "stream",
     "text": [
      "True\n"
     ]
    }
   ],
   "source": [
    "check_for_nan_4 = data['feature_4'].isnull().values.any()\n",
    "print(check_for_nan_4)"
   ]
  },
  {
   "cell_type": "markdown",
   "metadata": {},
   "source": [
    "These 4 rows shows us that we have NaN values in each feature that we need to eliminate. We will do it in the next lines."
   ]
  },
  {
   "cell_type": "markdown",
   "metadata": {},
   "source": [
    "#### Let's Start"
   ]
  },
  {
   "cell_type": "markdown",
   "metadata": {},
   "source": [
    "##### feature_1"
   ]
  },
  {
   "cell_type": "code",
   "execution_count": 8,
   "metadata": {},
   "outputs": [
    {
     "data": {
      "text/plain": [
       "0   -0.233467\n",
       "1    1.519003\n",
       "2    0.400640\n",
       "3   -1.616474\n",
       "4    1.480515\n",
       "Name: feature_1, dtype: float64"
      ]
     },
     "execution_count": 8,
     "metadata": {},
     "output_type": "execute_result"
    }
   ],
   "source": [
    "data.loc[data[\"feature_1\"].notnull(),\"feature_1\"].head(5)"
   ]
  },
  {
   "cell_type": "code",
   "execution_count": 9,
   "metadata": {},
   "outputs": [
    {
     "data": {
      "text/plain": [
       "1897"
      ]
     },
     "execution_count": 9,
     "metadata": {},
     "output_type": "execute_result"
    }
   ],
   "source": [
    "i_cout_f_1 = len(data.loc[data[\"feature_1\"].notnull(),\"feature_1\"])\n",
    "i_cout_f_1"
   ]
  },
  {
   "cell_type": "code",
   "execution_count": 10,
   "metadata": {},
   "outputs": [
    {
     "data": {
      "text/html": [
       "<div>\n",
       "<style scoped>\n",
       "    .dataframe tbody tr th:only-of-type {\n",
       "        vertical-align: middle;\n",
       "    }\n",
       "\n",
       "    .dataframe tbody tr th {\n",
       "        vertical-align: top;\n",
       "    }\n",
       "\n",
       "    .dataframe thead th {\n",
       "        text-align: right;\n",
       "    }\n",
       "</style>\n",
       "<table border=\"1\" class=\"dataframe\">\n",
       "  <thead>\n",
       "    <tr style=\"text-align: right;\">\n",
       "      <th></th>\n",
       "      <th>0</th>\n",
       "    </tr>\n",
       "  </thead>\n",
       "  <tbody>\n",
       "    <tr>\n",
       "      <th>0</th>\n",
       "      <td>-0.233467</td>\n",
       "    </tr>\n",
       "    <tr>\n",
       "      <th>1</th>\n",
       "      <td>1.519003</td>\n",
       "    </tr>\n",
       "    <tr>\n",
       "      <th>2</th>\n",
       "      <td>0.400640</td>\n",
       "    </tr>\n",
       "    <tr>\n",
       "      <th>3</th>\n",
       "      <td>-1.616474</td>\n",
       "    </tr>\n",
       "    <tr>\n",
       "      <th>4</th>\n",
       "      <td>1.480515</td>\n",
       "    </tr>\n",
       "  </tbody>\n",
       "</table>\n",
       "</div>"
      ],
      "text/plain": [
       "          0\n",
       "0 -0.233467\n",
       "1  1.519003\n",
       "2  0.400640\n",
       "3 -1.616474\n",
       "4  1.480515"
      ]
     },
     "execution_count": 10,
     "metadata": {},
     "output_type": "execute_result"
    }
   ],
   "source": [
    "feature_1_non_null_array = []\n",
    "for i in data.loc[data[\"feature_1\"].notnull(),\"feature_1\"]:\n",
    "    feature_1_non_null_array.append(i)\n",
    "feature_1_non_null_array2 = pd.DataFrame(feature_1_non_null_array)\n",
    "feature_1_non_null_array2.head(5) # just using this to make visualization better."
   ]
  },
  {
   "cell_type": "code",
   "execution_count": 11,
   "metadata": {},
   "outputs": [
    {
     "data": {
      "text/plain": [
       "array([-1.23482582,  2.00932907])"
      ]
     },
     "execution_count": 11,
     "metadata": {},
     "output_type": "execute_result"
    }
   ],
   "source": [
    "feature_1_non_null_array3 = np.array(feature_1_non_null_array)\n",
    "f_1_field = az.hdi(feature_1_non_null_array3, hdi_prob=.68) # HDI 68%\n",
    "f_1_field"
   ]
  },
  {
   "cell_type": "markdown",
   "metadata": {},
   "source": [
    "From this we found for feature_1 one $\\sigma$ or standard deviation range. So in this range we can make enough random values and insert them to the null points."
   ]
  },
  {
   "cell_type": "code",
   "execution_count": 12,
   "metadata": {},
   "outputs": [
    {
     "data": {
      "text/html": [
       "<div>\n",
       "<style scoped>\n",
       "    .dataframe tbody tr th:only-of-type {\n",
       "        vertical-align: middle;\n",
       "    }\n",
       "\n",
       "    .dataframe tbody tr th {\n",
       "        vertical-align: top;\n",
       "    }\n",
       "\n",
       "    .dataframe thead th {\n",
       "        text-align: right;\n",
       "    }\n",
       "</style>\n",
       "<table border=\"1\" class=\"dataframe\">\n",
       "  <thead>\n",
       "    <tr style=\"text-align: right;\">\n",
       "      <th></th>\n",
       "      <th>0</th>\n",
       "    </tr>\n",
       "  </thead>\n",
       "  <tbody>\n",
       "    <tr>\n",
       "      <th>0</th>\n",
       "      <td>0.659527</td>\n",
       "    </tr>\n",
       "    <tr>\n",
       "      <th>1</th>\n",
       "      <td>-0.639666</td>\n",
       "    </tr>\n",
       "    <tr>\n",
       "      <th>2</th>\n",
       "      <td>0.127207</td>\n",
       "    </tr>\n",
       "    <tr>\n",
       "      <th>3</th>\n",
       "      <td>-1.097138</td>\n",
       "    </tr>\n",
       "    <tr>\n",
       "      <th>4</th>\n",
       "      <td>1.746139</td>\n",
       "    </tr>\n",
       "  </tbody>\n",
       "</table>\n",
       "</div>"
      ],
      "text/plain": [
       "          0\n",
       "0  0.659527\n",
       "1 -0.639666\n",
       "2  0.127207\n",
       "3 -1.097138\n",
       "4  1.746139"
      ]
     },
     "execution_count": 12,
     "metadata": {},
     "output_type": "execute_result"
    }
   ],
   "source": [
    "new_values_feature_1 = []\n",
    "for i in range(0,(leng-i_cout_f_1)):\n",
    "    new_values_feature_1.append(random.uniform(min(f_1_field),max(f_1_field)))\n",
    "new_values_feature_1_2 = pd.DataFrame(new_values_feature_1)\n",
    "new_values_feature_1_2.head(5) # just using this to make visualization better."
   ]
  },
  {
   "cell_type": "code",
   "execution_count": 13,
   "metadata": {},
   "outputs": [
    {
     "name": "stderr",
     "output_type": "stream",
     "text": [
      "<ipython-input-13-b8dab0711266>:4: SettingWithCopyWarning: \n",
      "A value is trying to be set on a copy of a slice from a DataFrame\n",
      "\n",
      "See the caveats in the documentation: https://pandas.pydata.org/pandas-docs/stable/user_guide/indexing.html#returning-a-view-versus-a-copy\n",
      "  data[\"feature_1\"][i] = new_values_feature_1[i_cout]\n"
     ]
    },
    {
     "data": {
      "text/plain": [
       "False"
      ]
     },
     "execution_count": 13,
     "metadata": {},
     "output_type": "execute_result"
    }
   ],
   "source": [
    "list_1 = data.loc[data[\"feature_1\"].isnull(),\"feature_1\"].index.tolist()\n",
    "i_cout = 0\n",
    "for i in list_1:\n",
    "    data[\"feature_1\"][i] = new_values_feature_1[i_cout]\n",
    "    i_cout += 1\n",
    "i_cout = 0\n",
    "\n",
    "data['feature_1'].isnull().values.any()"
   ]
  },
  {
   "cell_type": "markdown",
   "metadata": {},
   "source": [
    "Here it can be seen that all the NaN values are now in the range of one $\\sigma$ error, which is highly reliably in a statistical point of view."
   ]
  },
  {
   "cell_type": "markdown",
   "metadata": {},
   "source": [
    "Let's also look at the length and head of the feature_1."
   ]
  },
  {
   "cell_type": "code",
   "execution_count": 14,
   "metadata": {},
   "outputs": [
    {
     "data": {
      "text/plain": [
       "0   -0.233467\n",
       "1    1.519003\n",
       "2    0.400640\n",
       "3   -1.616474\n",
       "4    1.480515\n",
       "Name: feature_1, dtype: float64"
      ]
     },
     "execution_count": 14,
     "metadata": {},
     "output_type": "execute_result"
    }
   ],
   "source": [
    "data['feature_1'].head(5)"
   ]
  },
  {
   "cell_type": "code",
   "execution_count": 15,
   "metadata": {},
   "outputs": [
    {
     "data": {
      "text/plain": [
       "1999"
      ]
     },
     "execution_count": 15,
     "metadata": {},
     "output_type": "execute_result"
    }
   ],
   "source": [
    "len(data['feature_1'])"
   ]
  },
  {
   "cell_type": "markdown",
   "metadata": {},
   "source": [
    "As it can be seen, length of the feature is now equal to the total data we have."
   ]
  },
  {
   "cell_type": "markdown",
   "metadata": {},
   "source": [
    "##### feature_2"
   ]
  },
  {
   "cell_type": "code",
   "execution_count": 16,
   "metadata": {},
   "outputs": [
    {
     "data": {
      "text/plain": [
       "0    0.308799\n",
       "1    1.238482\n",
       "2    1.916748\n",
       "3    0.209703\n",
       "4    5.299829\n",
       "Name: feature_2, dtype: float64"
      ]
     },
     "execution_count": 16,
     "metadata": {},
     "output_type": "execute_result"
    }
   ],
   "source": [
    "data.loc[data[\"feature_2\"].notnull(),\"feature_2\"].head(5)"
   ]
  },
  {
   "cell_type": "code",
   "execution_count": 17,
   "metadata": {},
   "outputs": [
    {
     "data": {
      "text/plain": [
       "1899"
      ]
     },
     "execution_count": 17,
     "metadata": {},
     "output_type": "execute_result"
    }
   ],
   "source": [
    "i_cout_f_2 = len(data.loc[data[\"feature_2\"].notnull(),\"feature_2\"])\n",
    "i_cout_f_2"
   ]
  },
  {
   "cell_type": "code",
   "execution_count": 18,
   "metadata": {},
   "outputs": [
    {
     "data": {
      "text/html": [
       "<div>\n",
       "<style scoped>\n",
       "    .dataframe tbody tr th:only-of-type {\n",
       "        vertical-align: middle;\n",
       "    }\n",
       "\n",
       "    .dataframe tbody tr th {\n",
       "        vertical-align: top;\n",
       "    }\n",
       "\n",
       "    .dataframe thead th {\n",
       "        text-align: right;\n",
       "    }\n",
       "</style>\n",
       "<table border=\"1\" class=\"dataframe\">\n",
       "  <thead>\n",
       "    <tr style=\"text-align: right;\">\n",
       "      <th></th>\n",
       "      <th>0</th>\n",
       "    </tr>\n",
       "  </thead>\n",
       "  <tbody>\n",
       "    <tr>\n",
       "      <th>0</th>\n",
       "      <td>0.308799</td>\n",
       "    </tr>\n",
       "    <tr>\n",
       "      <th>1</th>\n",
       "      <td>1.238482</td>\n",
       "    </tr>\n",
       "    <tr>\n",
       "      <th>2</th>\n",
       "      <td>1.916748</td>\n",
       "    </tr>\n",
       "    <tr>\n",
       "      <th>3</th>\n",
       "      <td>0.209703</td>\n",
       "    </tr>\n",
       "    <tr>\n",
       "      <th>4</th>\n",
       "      <td>5.299829</td>\n",
       "    </tr>\n",
       "  </tbody>\n",
       "</table>\n",
       "</div>"
      ],
      "text/plain": [
       "          0\n",
       "0  0.308799\n",
       "1  1.238482\n",
       "2  1.916748\n",
       "3  0.209703\n",
       "4  5.299829"
      ]
     },
     "execution_count": 18,
     "metadata": {},
     "output_type": "execute_result"
    }
   ],
   "source": [
    "feature_2_non_null_array = []\n",
    "for i in data.loc[data[\"feature_2\"].notnull(),\"feature_2\"]:\n",
    "    feature_2_non_null_array.append(i)\n",
    "feature_2_non_null_array2 = pd.DataFrame(feature_2_non_null_array)\n",
    "feature_2_non_null_array2.head(5) # just using this to make visualization better."
   ]
  },
  {
   "cell_type": "code",
   "execution_count": 19,
   "metadata": {},
   "outputs": [
    {
     "data": {
      "text/plain": [
       "array([0.86193778, 3.58874241])"
      ]
     },
     "execution_count": 19,
     "metadata": {},
     "output_type": "execute_result"
    }
   ],
   "source": [
    "feature_2_non_null_array3 = np.array(feature_2_non_null_array)\n",
    "f_2_field = az.hdi(feature_2_non_null_array3, hdi_prob=.68) # HDI 68%\n",
    "f_2_field"
   ]
  },
  {
   "cell_type": "markdown",
   "metadata": {},
   "source": [
    "From this we found for feature_2 one $\\sigma$ or standard deviation range. So in this range we can make enough random values and insert them to the null points."
   ]
  },
  {
   "cell_type": "code",
   "execution_count": 20,
   "metadata": {},
   "outputs": [
    {
     "data": {
      "text/html": [
       "<div>\n",
       "<style scoped>\n",
       "    .dataframe tbody tr th:only-of-type {\n",
       "        vertical-align: middle;\n",
       "    }\n",
       "\n",
       "    .dataframe tbody tr th {\n",
       "        vertical-align: top;\n",
       "    }\n",
       "\n",
       "    .dataframe thead th {\n",
       "        text-align: right;\n",
       "    }\n",
       "</style>\n",
       "<table border=\"1\" class=\"dataframe\">\n",
       "  <thead>\n",
       "    <tr style=\"text-align: right;\">\n",
       "      <th></th>\n",
       "      <th>0</th>\n",
       "    </tr>\n",
       "  </thead>\n",
       "  <tbody>\n",
       "    <tr>\n",
       "      <th>0</th>\n",
       "      <td>1.553896</td>\n",
       "    </tr>\n",
       "    <tr>\n",
       "      <th>1</th>\n",
       "      <td>2.041037</td>\n",
       "    </tr>\n",
       "    <tr>\n",
       "      <th>2</th>\n",
       "      <td>2.576541</td>\n",
       "    </tr>\n",
       "    <tr>\n",
       "      <th>3</th>\n",
       "      <td>1.189264</td>\n",
       "    </tr>\n",
       "    <tr>\n",
       "      <th>4</th>\n",
       "      <td>2.871631</td>\n",
       "    </tr>\n",
       "  </tbody>\n",
       "</table>\n",
       "</div>"
      ],
      "text/plain": [
       "          0\n",
       "0  1.553896\n",
       "1  2.041037\n",
       "2  2.576541\n",
       "3  1.189264\n",
       "4  2.871631"
      ]
     },
     "execution_count": 20,
     "metadata": {},
     "output_type": "execute_result"
    }
   ],
   "source": [
    "new_values_feature_2 = []\n",
    "for i in range(0,(leng-i_cout_f_2)):\n",
    "    new_values_feature_2.append(random.uniform(min(f_2_field),max(f_2_field)))\n",
    "new_values_feature_2_2 = pd.DataFrame(new_values_feature_2)\n",
    "new_values_feature_2_2.head(5) # just using this to make visualization better."
   ]
  },
  {
   "cell_type": "code",
   "execution_count": 21,
   "metadata": {},
   "outputs": [
    {
     "name": "stderr",
     "output_type": "stream",
     "text": [
      "<ipython-input-21-4c054a71a312>:4: SettingWithCopyWarning: \n",
      "A value is trying to be set on a copy of a slice from a DataFrame\n",
      "\n",
      "See the caveats in the documentation: https://pandas.pydata.org/pandas-docs/stable/user_guide/indexing.html#returning-a-view-versus-a-copy\n",
      "  data[\"feature_2\"][i] = new_values_feature_2[i_cout]\n"
     ]
    },
    {
     "data": {
      "text/plain": [
       "False"
      ]
     },
     "execution_count": 21,
     "metadata": {},
     "output_type": "execute_result"
    }
   ],
   "source": [
    "list_2 = data.loc[data[\"feature_2\"].isnull(),\"feature_2\"].index.tolist()\n",
    "i_cout = 0\n",
    "for i in list_2:\n",
    "    data[\"feature_2\"][i] = new_values_feature_2[i_cout]\n",
    "    i_cout += 1\n",
    "i_cout = 0\n",
    "\n",
    "data['feature_2'].isnull().values.any()"
   ]
  },
  {
   "cell_type": "markdown",
   "metadata": {},
   "source": [
    "Here it can be seen that all the NaN values are now in the range of one $\\sigma$ error, which is highly reliably in a statistical point of view."
   ]
  },
  {
   "cell_type": "markdown",
   "metadata": {},
   "source": [
    "Let's also look at the length and head of the feature_2."
   ]
  },
  {
   "cell_type": "code",
   "execution_count": 22,
   "metadata": {},
   "outputs": [
    {
     "data": {
      "text/plain": [
       "0    0.308799\n",
       "1    1.238482\n",
       "2    1.916748\n",
       "3    0.209703\n",
       "4    5.299829\n",
       "Name: feature_2, dtype: float64"
      ]
     },
     "execution_count": 22,
     "metadata": {},
     "output_type": "execute_result"
    }
   ],
   "source": [
    "data['feature_2'].head(5)"
   ]
  },
  {
   "cell_type": "code",
   "execution_count": 23,
   "metadata": {},
   "outputs": [
    {
     "data": {
      "text/plain": [
       "1999"
      ]
     },
     "execution_count": 23,
     "metadata": {},
     "output_type": "execute_result"
    }
   ],
   "source": [
    "len(data['feature_2'])"
   ]
  },
  {
   "cell_type": "markdown",
   "metadata": {},
   "source": [
    "As it can be seen, length of the feature is now equal to the total data we have."
   ]
  },
  {
   "cell_type": "markdown",
   "metadata": {},
   "source": [
    "##### feature_3"
   ]
  },
  {
   "cell_type": "code",
   "execution_count": 24,
   "metadata": {},
   "outputs": [
    {
     "data": {
      "text/plain": [
       "0    2.484015\n",
       "1    3.344450\n",
       "2    3.291096\n",
       "3    1.461544\n",
       "4    2.640670\n",
       "Name: feature_3, dtype: float64"
      ]
     },
     "execution_count": 24,
     "metadata": {},
     "output_type": "execute_result"
    }
   ],
   "source": [
    "data.loc[data[\"feature_3\"].notnull(),\"feature_3\"].head(5)"
   ]
  },
  {
   "cell_type": "code",
   "execution_count": 25,
   "metadata": {},
   "outputs": [
    {
     "data": {
      "text/plain": [
       "1893"
      ]
     },
     "execution_count": 25,
     "metadata": {},
     "output_type": "execute_result"
    }
   ],
   "source": [
    "i_cout_f_3 = len(data.loc[data[\"feature_3\"].notnull(),\"feature_3\"])\n",
    "i_cout_f_3"
   ]
  },
  {
   "cell_type": "code",
   "execution_count": 26,
   "metadata": {},
   "outputs": [
    {
     "data": {
      "text/html": [
       "<div>\n",
       "<style scoped>\n",
       "    .dataframe tbody tr th:only-of-type {\n",
       "        vertical-align: middle;\n",
       "    }\n",
       "\n",
       "    .dataframe tbody tr th {\n",
       "        vertical-align: top;\n",
       "    }\n",
       "\n",
       "    .dataframe thead th {\n",
       "        text-align: right;\n",
       "    }\n",
       "</style>\n",
       "<table border=\"1\" class=\"dataframe\">\n",
       "  <thead>\n",
       "    <tr style=\"text-align: right;\">\n",
       "      <th></th>\n",
       "      <th>0</th>\n",
       "    </tr>\n",
       "  </thead>\n",
       "  <tbody>\n",
       "    <tr>\n",
       "      <th>0</th>\n",
       "      <td>2.484015</td>\n",
       "    </tr>\n",
       "    <tr>\n",
       "      <th>1</th>\n",
       "      <td>3.344450</td>\n",
       "    </tr>\n",
       "    <tr>\n",
       "      <th>2</th>\n",
       "      <td>3.291096</td>\n",
       "    </tr>\n",
       "    <tr>\n",
       "      <th>3</th>\n",
       "      <td>1.461544</td>\n",
       "    </tr>\n",
       "    <tr>\n",
       "      <th>4</th>\n",
       "      <td>2.640670</td>\n",
       "    </tr>\n",
       "  </tbody>\n",
       "</table>\n",
       "</div>"
      ],
      "text/plain": [
       "          0\n",
       "0  2.484015\n",
       "1  3.344450\n",
       "2  3.291096\n",
       "3  1.461544\n",
       "4  2.640670"
      ]
     },
     "execution_count": 26,
     "metadata": {},
     "output_type": "execute_result"
    }
   ],
   "source": [
    "feature_3_non_null_array = []\n",
    "for i in data.loc[data[\"feature_3\"].notnull(),\"feature_3\"]:\n",
    "    feature_3_non_null_array.append(i)\n",
    "feature_3_non_null_array2 = pd.DataFrame(feature_3_non_null_array)\n",
    "feature_3_non_null_array2.head(5) # just using this to make visualization better."
   ]
  },
  {
   "cell_type": "code",
   "execution_count": 27,
   "metadata": {},
   "outputs": [
    {
     "data": {
      "text/plain": [
       "array([1.16997145, 3.75770094])"
      ]
     },
     "execution_count": 27,
     "metadata": {},
     "output_type": "execute_result"
    }
   ],
   "source": [
    "feature_3_non_null_array3 = np.array(feature_3_non_null_array)\n",
    "f_3_field = az.hdi(feature_3_non_null_array3, hdi_prob=.68) # HDI 68%\n",
    "f_3_field "
   ]
  },
  {
   "cell_type": "markdown",
   "metadata": {},
   "source": [
    "From this we found for feature_3 one $\\sigma$ or standard deviation range. So in this range we can make enough random values and insert them to the null points."
   ]
  },
  {
   "cell_type": "code",
   "execution_count": 28,
   "metadata": {},
   "outputs": [
    {
     "data": {
      "text/html": [
       "<div>\n",
       "<style scoped>\n",
       "    .dataframe tbody tr th:only-of-type {\n",
       "        vertical-align: middle;\n",
       "    }\n",
       "\n",
       "    .dataframe tbody tr th {\n",
       "        vertical-align: top;\n",
       "    }\n",
       "\n",
       "    .dataframe thead th {\n",
       "        text-align: right;\n",
       "    }\n",
       "</style>\n",
       "<table border=\"1\" class=\"dataframe\">\n",
       "  <thead>\n",
       "    <tr style=\"text-align: right;\">\n",
       "      <th></th>\n",
       "      <th>0</th>\n",
       "    </tr>\n",
       "  </thead>\n",
       "  <tbody>\n",
       "    <tr>\n",
       "      <th>0</th>\n",
       "      <td>2.617910</td>\n",
       "    </tr>\n",
       "    <tr>\n",
       "      <th>1</th>\n",
       "      <td>2.488602</td>\n",
       "    </tr>\n",
       "    <tr>\n",
       "      <th>2</th>\n",
       "      <td>1.235230</td>\n",
       "    </tr>\n",
       "    <tr>\n",
       "      <th>3</th>\n",
       "      <td>2.190789</td>\n",
       "    </tr>\n",
       "    <tr>\n",
       "      <th>4</th>\n",
       "      <td>2.025020</td>\n",
       "    </tr>\n",
       "  </tbody>\n",
       "</table>\n",
       "</div>"
      ],
      "text/plain": [
       "          0\n",
       "0  2.617910\n",
       "1  2.488602\n",
       "2  1.235230\n",
       "3  2.190789\n",
       "4  2.025020"
      ]
     },
     "execution_count": 28,
     "metadata": {},
     "output_type": "execute_result"
    }
   ],
   "source": [
    "new_values_feature_3 = []\n",
    "for i in range(0,(leng-i_cout_f_3)):\n",
    "    new_values_feature_3.append(random.uniform(min(f_3_field),max(f_3_field)))\n",
    "new_values_feature_3_2 = pd.DataFrame(new_values_feature_3)\n",
    "new_values_feature_3_2.head(5) # just using this to make visualization better."
   ]
  },
  {
   "cell_type": "code",
   "execution_count": 29,
   "metadata": {},
   "outputs": [
    {
     "name": "stderr",
     "output_type": "stream",
     "text": [
      "<ipython-input-29-6fdb1a50fa6c>:4: SettingWithCopyWarning: \n",
      "A value is trying to be set on a copy of a slice from a DataFrame\n",
      "\n",
      "See the caveats in the documentation: https://pandas.pydata.org/pandas-docs/stable/user_guide/indexing.html#returning-a-view-versus-a-copy\n",
      "  data[\"feature_3\"][i] = new_values_feature_3[i_cout]\n"
     ]
    },
    {
     "data": {
      "text/plain": [
       "False"
      ]
     },
     "execution_count": 29,
     "metadata": {},
     "output_type": "execute_result"
    }
   ],
   "source": [
    "list_3 = data.loc[data[\"feature_3\"].isnull(),\"feature_3\"].index.tolist()\n",
    "i_cout = 0\n",
    "for i in list_3:\n",
    "    data[\"feature_3\"][i] = new_values_feature_3[i_cout]\n",
    "    i_cout += 1\n",
    "i_cout = 0\n",
    "\n",
    "data['feature_3'].isnull().values.any()"
   ]
  },
  {
   "cell_type": "markdown",
   "metadata": {},
   "source": [
    "Here it can be seen that all the NaN values are now in the range of one $\\sigma$ error, which is highly reliably in a statistical point of view."
   ]
  },
  {
   "cell_type": "markdown",
   "metadata": {},
   "source": [
    "Let's also look at the length and head of the feature_3."
   ]
  },
  {
   "cell_type": "code",
   "execution_count": 30,
   "metadata": {},
   "outputs": [
    {
     "data": {
      "text/plain": [
       "0    2.484015\n",
       "1    3.344450\n",
       "2    3.291096\n",
       "3    1.461544\n",
       "4    2.640670\n",
       "Name: feature_3, dtype: float64"
      ]
     },
     "execution_count": 30,
     "metadata": {},
     "output_type": "execute_result"
    }
   ],
   "source": [
    "data['feature_3'].head(5)"
   ]
  },
  {
   "cell_type": "code",
   "execution_count": 31,
   "metadata": {},
   "outputs": [
    {
     "data": {
      "text/plain": [
       "1999"
      ]
     },
     "execution_count": 31,
     "metadata": {},
     "output_type": "execute_result"
    }
   ],
   "source": [
    "len(data['feature_3'])"
   ]
  },
  {
   "cell_type": "markdown",
   "metadata": {},
   "source": [
    "As it can be seen, length of the feature is now equal to the total data we have."
   ]
  },
  {
   "cell_type": "markdown",
   "metadata": {},
   "source": [
    "##### feature_4"
   ]
  },
  {
   "cell_type": "code",
   "execution_count": 32,
   "metadata": {
    "scrolled": true
   },
   "outputs": [
    {
     "data": {
      "text/plain": [
       "0    1.732721\n",
       "1    0.783744\n",
       "2   -0.918519\n",
       "3   -0.291837\n",
       "4    1.867559\n",
       "Name: feature_4, dtype: float64"
      ]
     },
     "execution_count": 32,
     "metadata": {},
     "output_type": "execute_result"
    }
   ],
   "source": [
    "data.loc[data[\"feature_4\"].notnull(),\"feature_4\"].head(5)"
   ]
  },
  {
   "cell_type": "code",
   "execution_count": 33,
   "metadata": {},
   "outputs": [
    {
     "data": {
      "text/plain": [
       "1897"
      ]
     },
     "execution_count": 33,
     "metadata": {},
     "output_type": "execute_result"
    }
   ],
   "source": [
    "i_cout_f_4 = len(data.loc[data[\"feature_4\"].notnull(),\"feature_4\"])\n",
    "i_cout_f_4"
   ]
  },
  {
   "cell_type": "code",
   "execution_count": 34,
   "metadata": {},
   "outputs": [
    {
     "data": {
      "text/html": [
       "<div>\n",
       "<style scoped>\n",
       "    .dataframe tbody tr th:only-of-type {\n",
       "        vertical-align: middle;\n",
       "    }\n",
       "\n",
       "    .dataframe tbody tr th {\n",
       "        vertical-align: top;\n",
       "    }\n",
       "\n",
       "    .dataframe thead th {\n",
       "        text-align: right;\n",
       "    }\n",
       "</style>\n",
       "<table border=\"1\" class=\"dataframe\">\n",
       "  <thead>\n",
       "    <tr style=\"text-align: right;\">\n",
       "      <th></th>\n",
       "      <th>0</th>\n",
       "    </tr>\n",
       "  </thead>\n",
       "  <tbody>\n",
       "    <tr>\n",
       "      <th>0</th>\n",
       "      <td>1.732721</td>\n",
       "    </tr>\n",
       "    <tr>\n",
       "      <th>1</th>\n",
       "      <td>0.783744</td>\n",
       "    </tr>\n",
       "    <tr>\n",
       "      <th>2</th>\n",
       "      <td>-0.918519</td>\n",
       "    </tr>\n",
       "    <tr>\n",
       "      <th>3</th>\n",
       "      <td>-0.291837</td>\n",
       "    </tr>\n",
       "    <tr>\n",
       "      <th>4</th>\n",
       "      <td>1.867559</td>\n",
       "    </tr>\n",
       "  </tbody>\n",
       "</table>\n",
       "</div>"
      ],
      "text/plain": [
       "          0\n",
       "0  1.732721\n",
       "1  0.783744\n",
       "2 -0.918519\n",
       "3 -0.291837\n",
       "4  1.867559"
      ]
     },
     "execution_count": 34,
     "metadata": {},
     "output_type": "execute_result"
    }
   ],
   "source": [
    "feature_4_non_null_array = []\n",
    "for i in data.loc[data[\"feature_4\"].notnull(),\"feature_4\"]:\n",
    "    feature_4_non_null_array.append(i)\n",
    "feature_4_non_null_array2 = pd.DataFrame(feature_4_non_null_array)\n",
    "feature_4_non_null_array2.head(5) # just using this to make visualization better."
   ]
  },
  {
   "cell_type": "code",
   "execution_count": 35,
   "metadata": {},
   "outputs": [
    {
     "data": {
      "text/plain": [
       "array([-1.0585719,  2.2004065])"
      ]
     },
     "execution_count": 35,
     "metadata": {},
     "output_type": "execute_result"
    }
   ],
   "source": [
    "feature_4_non_null_array3 = np.array(feature_4_non_null_array)\n",
    "f_4_field = az.hdi(feature_4_non_null_array3, hdi_prob=.68) # HDI 68%\n",
    "f_4_field"
   ]
  },
  {
   "cell_type": "markdown",
   "metadata": {},
   "source": [
    "From this we found for feature_4 one $\\sigma$ or standard deviation range. So in this range we can make enough random values and insert them to the null points."
   ]
  },
  {
   "cell_type": "code",
   "execution_count": 36,
   "metadata": {},
   "outputs": [
    {
     "data": {
      "text/html": [
       "<div>\n",
       "<style scoped>\n",
       "    .dataframe tbody tr th:only-of-type {\n",
       "        vertical-align: middle;\n",
       "    }\n",
       "\n",
       "    .dataframe tbody tr th {\n",
       "        vertical-align: top;\n",
       "    }\n",
       "\n",
       "    .dataframe thead th {\n",
       "        text-align: right;\n",
       "    }\n",
       "</style>\n",
       "<table border=\"1\" class=\"dataframe\">\n",
       "  <thead>\n",
       "    <tr style=\"text-align: right;\">\n",
       "      <th></th>\n",
       "      <th>0</th>\n",
       "    </tr>\n",
       "  </thead>\n",
       "  <tbody>\n",
       "    <tr>\n",
       "      <th>0</th>\n",
       "      <td>1.764913</td>\n",
       "    </tr>\n",
       "    <tr>\n",
       "      <th>1</th>\n",
       "      <td>-1.015146</td>\n",
       "    </tr>\n",
       "    <tr>\n",
       "      <th>2</th>\n",
       "      <td>-0.254404</td>\n",
       "    </tr>\n",
       "    <tr>\n",
       "      <th>3</th>\n",
       "      <td>-0.198851</td>\n",
       "    </tr>\n",
       "    <tr>\n",
       "      <th>4</th>\n",
       "      <td>0.103418</td>\n",
       "    </tr>\n",
       "  </tbody>\n",
       "</table>\n",
       "</div>"
      ],
      "text/plain": [
       "          0\n",
       "0  1.764913\n",
       "1 -1.015146\n",
       "2 -0.254404\n",
       "3 -0.198851\n",
       "4  0.103418"
      ]
     },
     "execution_count": 36,
     "metadata": {},
     "output_type": "execute_result"
    }
   ],
   "source": [
    "new_values_feature_4 = []\n",
    "for i in range(0,(leng-i_cout_f_4)):\n",
    "    new_values_feature_4.append(random.uniform(min(f_4_field),max(f_4_field)))\n",
    "new_values_feature_4_2 = pd.DataFrame(new_values_feature_4)\n",
    "new_values_feature_4_2.head(5) # just using this to make visualization better."
   ]
  },
  {
   "cell_type": "code",
   "execution_count": 37,
   "metadata": {},
   "outputs": [
    {
     "name": "stderr",
     "output_type": "stream",
     "text": [
      "<ipython-input-37-4cf6bf9166ee>:4: SettingWithCopyWarning: \n",
      "A value is trying to be set on a copy of a slice from a DataFrame\n",
      "\n",
      "See the caveats in the documentation: https://pandas.pydata.org/pandas-docs/stable/user_guide/indexing.html#returning-a-view-versus-a-copy\n",
      "  data[\"feature_4\"][i] = new_values_feature_4[i_cout]\n"
     ]
    },
    {
     "data": {
      "text/plain": [
       "False"
      ]
     },
     "execution_count": 37,
     "metadata": {},
     "output_type": "execute_result"
    }
   ],
   "source": [
    "list_4 = data.loc[data[\"feature_4\"].isnull(),\"feature_4\"].index.tolist()\n",
    "i_cout = 0\n",
    "for i in list_4:\n",
    "    data[\"feature_4\"][i] = new_values_feature_4[i_cout]\n",
    "    i_cout += 1\n",
    "i_cout = 0\n",
    "\n",
    "data['feature_4'].isnull().values.any()"
   ]
  },
  {
   "cell_type": "markdown",
   "metadata": {},
   "source": [
    "Here it can be seen that all the NaN values are now in the range of one $\\sigma$ error, which is highly reliably in a statistical point of view."
   ]
  },
  {
   "cell_type": "markdown",
   "metadata": {},
   "source": [
    "Let's also look at the length and head of the feature_4."
   ]
  },
  {
   "cell_type": "code",
   "execution_count": 38,
   "metadata": {},
   "outputs": [
    {
     "data": {
      "text/plain": [
       "0    1.732721\n",
       "1    0.783744\n",
       "2   -0.918519\n",
       "3   -0.291837\n",
       "4    1.867559\n",
       "Name: feature_4, dtype: float64"
      ]
     },
     "execution_count": 38,
     "metadata": {},
     "output_type": "execute_result"
    }
   ],
   "source": [
    "data['feature_4'].head(5)"
   ]
  },
  {
   "cell_type": "code",
   "execution_count": 39,
   "metadata": {},
   "outputs": [
    {
     "data": {
      "text/plain": [
       "1999"
      ]
     },
     "execution_count": 39,
     "metadata": {},
     "output_type": "execute_result"
    }
   ],
   "source": [
    "len(data['feature_4'])"
   ]
  },
  {
   "cell_type": "markdown",
   "metadata": {},
   "source": [
    "As it can be seen, length of the feature is now equal to the total data we have."
   ]
  },
  {
   "cell_type": "markdown",
   "metadata": {},
   "source": [
    "#### General Comment"
   ]
  },
  {
   "cell_type": "code",
   "execution_count": 40,
   "metadata": {},
   "outputs": [
    {
     "data": {
      "text/plain": [
       "False"
      ]
     },
     "execution_count": 40,
     "metadata": {},
     "output_type": "execute_result"
    }
   ],
   "source": [
    "data.isnull().values.any() "
   ]
  },
  {
   "cell_type": "markdown",
   "metadata": {},
   "source": [
    "So all the missing values are now given their new values. Now let's visualize the dataset with first 20 rows."
   ]
  },
  {
   "cell_type": "code",
   "execution_count": 41,
   "metadata": {},
   "outputs": [
    {
     "data": {
      "text/html": [
       "<div>\n",
       "<style scoped>\n",
       "    .dataframe tbody tr th:only-of-type {\n",
       "        vertical-align: middle;\n",
       "    }\n",
       "\n",
       "    .dataframe tbody tr th {\n",
       "        vertical-align: top;\n",
       "    }\n",
       "\n",
       "    .dataframe thead th {\n",
       "        text-align: right;\n",
       "    }\n",
       "</style>\n",
       "<table border=\"1\" class=\"dataframe\">\n",
       "  <thead>\n",
       "    <tr style=\"text-align: right;\">\n",
       "      <th></th>\n",
       "      <th>feature_1</th>\n",
       "      <th>feature_2</th>\n",
       "      <th>feature_3</th>\n",
       "      <th>feature_4</th>\n",
       "      <th>isVirus</th>\n",
       "    </tr>\n",
       "  </thead>\n",
       "  <tbody>\n",
       "    <tr>\n",
       "      <th>0</th>\n",
       "      <td>-0.233467</td>\n",
       "      <td>0.308799</td>\n",
       "      <td>2.484015</td>\n",
       "      <td>1.732721</td>\n",
       "      <td>False</td>\n",
       "    </tr>\n",
       "    <tr>\n",
       "      <th>1</th>\n",
       "      <td>1.519003</td>\n",
       "      <td>1.238482</td>\n",
       "      <td>3.344450</td>\n",
       "      <td>0.783744</td>\n",
       "      <td>False</td>\n",
       "    </tr>\n",
       "    <tr>\n",
       "      <th>2</th>\n",
       "      <td>0.400640</td>\n",
       "      <td>1.916748</td>\n",
       "      <td>3.291096</td>\n",
       "      <td>-0.918519</td>\n",
       "      <td>False</td>\n",
       "    </tr>\n",
       "    <tr>\n",
       "      <th>3</th>\n",
       "      <td>-1.616474</td>\n",
       "      <td>0.209703</td>\n",
       "      <td>1.461544</td>\n",
       "      <td>-0.291837</td>\n",
       "      <td>False</td>\n",
       "    </tr>\n",
       "    <tr>\n",
       "      <th>4</th>\n",
       "      <td>1.480515</td>\n",
       "      <td>5.299829</td>\n",
       "      <td>2.640670</td>\n",
       "      <td>1.867559</td>\n",
       "      <td>True</td>\n",
       "    </tr>\n",
       "    <tr>\n",
       "      <th>5</th>\n",
       "      <td>1.239941</td>\n",
       "      <td>5.364270</td>\n",
       "      <td>1.279281</td>\n",
       "      <td>0.938585</td>\n",
       "      <td>True</td>\n",
       "    </tr>\n",
       "    <tr>\n",
       "      <th>6</th>\n",
       "      <td>0.003583</td>\n",
       "      <td>-0.027756</td>\n",
       "      <td>3.048730</td>\n",
       "      <td>1.764913</td>\n",
       "      <td>True</td>\n",
       "    </tr>\n",
       "    <tr>\n",
       "      <th>7</th>\n",
       "      <td>-0.286887</td>\n",
       "      <td>0.905702</td>\n",
       "      <td>1.924124</td>\n",
       "      <td>-1.015146</td>\n",
       "      <td>True</td>\n",
       "    </tr>\n",
       "    <tr>\n",
       "      <th>8</th>\n",
       "      <td>-0.898322</td>\n",
       "      <td>-1.198319</td>\n",
       "      <td>0.694305</td>\n",
       "      <td>0.802052</td>\n",
       "      <td>True</td>\n",
       "    </tr>\n",
       "    <tr>\n",
       "      <th>9</th>\n",
       "      <td>-1.084037</td>\n",
       "      <td>0.509091</td>\n",
       "      <td>2.268160</td>\n",
       "      <td>0.351780</td>\n",
       "      <td>True</td>\n",
       "    </tr>\n",
       "    <tr>\n",
       "      <th>10</th>\n",
       "      <td>-0.686102</td>\n",
       "      <td>1.457546</td>\n",
       "      <td>2.024176</td>\n",
       "      <td>-1.592211</td>\n",
       "      <td>True</td>\n",
       "    </tr>\n",
       "    <tr>\n",
       "      <th>11</th>\n",
       "      <td>1.496911</td>\n",
       "      <td>0.360576</td>\n",
       "      <td>2.508337</td>\n",
       "      <td>1.183120</td>\n",
       "      <td>False</td>\n",
       "    </tr>\n",
       "    <tr>\n",
       "      <th>12</th>\n",
       "      <td>0.864052</td>\n",
       "      <td>-4.298557</td>\n",
       "      <td>2.283903</td>\n",
       "      <td>-2.239604</td>\n",
       "      <td>True</td>\n",
       "    </tr>\n",
       "    <tr>\n",
       "      <th>13</th>\n",
       "      <td>1.574371</td>\n",
       "      <td>0.534260</td>\n",
       "      <td>3.406246</td>\n",
       "      <td>0.198989</td>\n",
       "      <td>False</td>\n",
       "    </tr>\n",
       "    <tr>\n",
       "      <th>14</th>\n",
       "      <td>-0.860510</td>\n",
       "      <td>1.236653</td>\n",
       "      <td>1.786827</td>\n",
       "      <td>-1.631220</td>\n",
       "      <td>True</td>\n",
       "    </tr>\n",
       "    <tr>\n",
       "      <th>15</th>\n",
       "      <td>-1.118526</td>\n",
       "      <td>-0.998028</td>\n",
       "      <td>1.672111</td>\n",
       "      <td>0.272111</td>\n",
       "      <td>False</td>\n",
       "    </tr>\n",
       "    <tr>\n",
       "      <th>16</th>\n",
       "      <td>0.659527</td>\n",
       "      <td>-0.657051</td>\n",
       "      <td>2.122205</td>\n",
       "      <td>1.140488</td>\n",
       "      <td>False</td>\n",
       "    </tr>\n",
       "    <tr>\n",
       "      <th>17</th>\n",
       "      <td>0.141667</td>\n",
       "      <td>1.553896</td>\n",
       "      <td>2.950404</td>\n",
       "      <td>-0.011136</td>\n",
       "      <td>False</td>\n",
       "    </tr>\n",
       "    <tr>\n",
       "      <th>18</th>\n",
       "      <td>0.003222</td>\n",
       "      <td>-2.558586</td>\n",
       "      <td>1.606859</td>\n",
       "      <td>-1.057474</td>\n",
       "      <td>True</td>\n",
       "    </tr>\n",
       "    <tr>\n",
       "      <th>19</th>\n",
       "      <td>-1.240216</td>\n",
       "      <td>1.934231</td>\n",
       "      <td>2.617910</td>\n",
       "      <td>0.900054</td>\n",
       "      <td>False</td>\n",
       "    </tr>\n",
       "  </tbody>\n",
       "</table>\n",
       "</div>"
      ],
      "text/plain": [
       "    feature_1  feature_2  feature_3  feature_4  isVirus\n",
       "0   -0.233467   0.308799   2.484015   1.732721    False\n",
       "1    1.519003   1.238482   3.344450   0.783744    False\n",
       "2    0.400640   1.916748   3.291096  -0.918519    False\n",
       "3   -1.616474   0.209703   1.461544  -0.291837    False\n",
       "4    1.480515   5.299829   2.640670   1.867559     True\n",
       "5    1.239941   5.364270   1.279281   0.938585     True\n",
       "6    0.003583  -0.027756   3.048730   1.764913     True\n",
       "7   -0.286887   0.905702   1.924124  -1.015146     True\n",
       "8   -0.898322  -1.198319   0.694305   0.802052     True\n",
       "9   -1.084037   0.509091   2.268160   0.351780     True\n",
       "10  -0.686102   1.457546   2.024176  -1.592211     True\n",
       "11   1.496911   0.360576   2.508337   1.183120    False\n",
       "12   0.864052  -4.298557   2.283903  -2.239604     True\n",
       "13   1.574371   0.534260   3.406246   0.198989    False\n",
       "14  -0.860510   1.236653   1.786827  -1.631220     True\n",
       "15  -1.118526  -0.998028   1.672111   0.272111    False\n",
       "16   0.659527  -0.657051   2.122205   1.140488    False\n",
       "17   0.141667   1.553896   2.950404  -0.011136    False\n",
       "18   0.003222  -2.558586   1.606859  -1.057474     True\n",
       "19  -1.240216   1.934231   2.617910   0.900054    False"
      ]
     },
     "execution_count": 41,
     "metadata": {},
     "output_type": "execute_result"
    }
   ],
   "source": [
    "data.head(20)"
   ]
  },
  {
   "cell_type": "markdown",
   "metadata": {},
   "source": [
    "Now let's move on with the predictive model training and creation."
   ]
  },
  {
   "cell_type": "markdown",
   "metadata": {},
   "source": [
    "#### Model Creation"
   ]
  },
  {
   "cell_type": "markdown",
   "metadata": {},
   "source": [
    "In this part we will select a model that is going to be used to predict the IsVirus or not. I prefer using Naive Bayes, since; it is easy to build and probabilistic approach is highly reliable, logistic regression or perceptrons can also be preferred for linear systems but, for most naive bayes feels more natural from a statistics point of view."
   ]
  },
  {
   "cell_type": "markdown",
   "metadata": {},
   "source": [
    "So that means I will use Naive Bayes model with cross validation to train it from itself."
   ]
  },
  {
   "cell_type": "code",
   "execution_count": 42,
   "metadata": {},
   "outputs": [],
   "source": [
    "from sklearn.naive_bayes import GaussianNB\n",
    "from sklearn import model_selection # train_test_split, KFold ,cross_val_score, GridSearchCV"
   ]
  },
  {
   "cell_type": "code",
   "execution_count": 43,
   "metadata": {},
   "outputs": [],
   "source": [
    "model = GaussianNB()"
   ]
  },
  {
   "cell_type": "code",
   "execution_count": 44,
   "metadata": {},
   "outputs": [
    {
     "data": {
      "text/html": [
       "<div>\n",
       "<style scoped>\n",
       "    .dataframe tbody tr th:only-of-type {\n",
       "        vertical-align: middle;\n",
       "    }\n",
       "\n",
       "    .dataframe tbody tr th {\n",
       "        vertical-align: top;\n",
       "    }\n",
       "\n",
       "    .dataframe thead th {\n",
       "        text-align: right;\n",
       "    }\n",
       "</style>\n",
       "<table border=\"1\" class=\"dataframe\">\n",
       "  <thead>\n",
       "    <tr style=\"text-align: right;\">\n",
       "      <th></th>\n",
       "      <th>feature_1</th>\n",
       "      <th>feature_2</th>\n",
       "      <th>feature_3</th>\n",
       "      <th>feature_4</th>\n",
       "      <th>isVirus</th>\n",
       "    </tr>\n",
       "  </thead>\n",
       "  <tbody>\n",
       "    <tr>\n",
       "      <th>0</th>\n",
       "      <td>-0.233467</td>\n",
       "      <td>0.308799</td>\n",
       "      <td>2.484015</td>\n",
       "      <td>1.732721</td>\n",
       "      <td>False</td>\n",
       "    </tr>\n",
       "    <tr>\n",
       "      <th>1</th>\n",
       "      <td>1.519003</td>\n",
       "      <td>1.238482</td>\n",
       "      <td>3.344450</td>\n",
       "      <td>0.783744</td>\n",
       "      <td>False</td>\n",
       "    </tr>\n",
       "    <tr>\n",
       "      <th>2</th>\n",
       "      <td>0.400640</td>\n",
       "      <td>1.916748</td>\n",
       "      <td>3.291096</td>\n",
       "      <td>-0.918519</td>\n",
       "      <td>False</td>\n",
       "    </tr>\n",
       "    <tr>\n",
       "      <th>3</th>\n",
       "      <td>-1.616474</td>\n",
       "      <td>0.209703</td>\n",
       "      <td>1.461544</td>\n",
       "      <td>-0.291837</td>\n",
       "      <td>False</td>\n",
       "    </tr>\n",
       "    <tr>\n",
       "      <th>4</th>\n",
       "      <td>1.480515</td>\n",
       "      <td>5.299829</td>\n",
       "      <td>2.640670</td>\n",
       "      <td>1.867559</td>\n",
       "      <td>True</td>\n",
       "    </tr>\n",
       "  </tbody>\n",
       "</table>\n",
       "</div>"
      ],
      "text/plain": [
       "   feature_1  feature_2  feature_3  feature_4  isVirus\n",
       "0  -0.233467   0.308799   2.484015   1.732721    False\n",
       "1   1.519003   1.238482   3.344450   0.783744    False\n",
       "2   0.400640   1.916748   3.291096  -0.918519    False\n",
       "3  -1.616474   0.209703   1.461544  -0.291837    False\n",
       "4   1.480515   5.299829   2.640670   1.867559     True"
      ]
     },
     "execution_count": 44,
     "metadata": {},
     "output_type": "execute_result"
    }
   ],
   "source": [
    "df = data.copy()\n",
    "df.head(5)"
   ]
  },
  {
   "cell_type": "code",
   "execution_count": 45,
   "metadata": {},
   "outputs": [],
   "source": [
    "#df.iloc[:, :-1]\n",
    "#df.iloc[:, -1] "
   ]
  },
  {
   "cell_type": "code",
   "execution_count": 46,
   "metadata": {},
   "outputs": [],
   "source": [
    "X = df.iloc[:, :-1] # choose all rows and first 4 columns (excluding the last)\n",
    "y = df.iloc[:, -1] # choose all rows and only last column"
   ]
  },
  {
   "cell_type": "markdown",
   "metadata": {},
   "source": [
    "#### Model"
   ]
  },
  {
   "cell_type": "code",
   "execution_count": 47,
   "metadata": {},
   "outputs": [
    {
     "data": {
      "text/plain": [
       "GaussianNB()"
      ]
     },
     "execution_count": 47,
     "metadata": {},
     "output_type": "execute_result"
    }
   ],
   "source": [
    "# simple train test split\n",
    "X_train, X_test,y_train, y_test = model_selection.train_test_split(X, y, test_size=0.2)\n",
    "model.fit(X_train, y_train)"
   ]
  },
  {
   "cell_type": "code",
   "execution_count": 48,
   "metadata": {},
   "outputs": [],
   "source": [
    "preds = model.predict(X_test)"
   ]
  },
  {
   "cell_type": "code",
   "execution_count": 49,
   "metadata": {},
   "outputs": [],
   "source": [
    "# K fold cross validation to test the specific model\n",
    "cv = model_selection.StratifiedKFold(n_splits=5, shuffle = True) # getting 5 folds\n",
    "scores = model_selection.cross_val_score(model, X, y, cv=cv, scoring='accuracy') # automatically uses model on 5 times on folds, \n",
    "# and calculate accuracy score and return array of size 5"
   ]
  },
  {
   "cell_type": "code",
   "execution_count": 50,
   "metadata": {},
   "outputs": [],
   "source": [
    "scores1 = model_selection.cross_val_score(model, X, y, cv=cv, scoring='f1')# automatically uses model on 5 times on folds, \n",
    "# and calculate f1 score and return array of size 5"
   ]
  },
  {
   "cell_type": "code",
   "execution_count": 51,
   "metadata": {},
   "outputs": [],
   "source": [
    "# hyperparameter tuning for GaussianNB - \n",
    "param_dic = {'var_smoothing': (1e-8, 1e-9, 1e-10)}\n",
    "gridsearch = model_selection.GridSearchCV(estimator=model, param_grid=param_dic, cv=5, scoring='f1') \n",
    "# param_grid is dictionary of hyperparameter with corresponding list of values to test\n",
    "# cv is for checking each combination of hyperparameters of 5 folds using scoring f1_score"
   ]
  },
  {
   "cell_type": "code",
   "execution_count": 52,
   "metadata": {},
   "outputs": [
    {
     "data": {
      "text/plain": [
       "GridSearchCV(cv=5, estimator=GaussianNB(),\n",
       "             param_grid={'var_smoothing': (1e-08, 1e-09, 1e-10)}, scoring='f1')"
      ]
     },
     "execution_count": 52,
     "metadata": {},
     "output_type": "execute_result"
    }
   ],
   "source": [
    "gridsearch.fit(X_train, y_train)"
   ]
  },
  {
   "cell_type": "code",
   "execution_count": 53,
   "metadata": {},
   "outputs": [
    {
     "data": {
      "text/plain": [
       "{'var_smoothing': 1e-08}"
      ]
     },
     "execution_count": 53,
     "metadata": {},
     "output_type": "execute_result"
    }
   ],
   "source": [
    "gridsearch.best_params_ # looking at the combination that yield to the best f1_score "
   ]
  },
  {
   "cell_type": "code",
   "execution_count": 54,
   "metadata": {},
   "outputs": [
    {
     "name": "stdout",
     "output_type": "stream",
     "text": [
      "acc: 66.25%\n",
      "acc: 63.25%\n",
      "acc: 70.00%\n",
      "acc: 67.00%\n",
      "acc: 74.94%\n"
     ]
    }
   ],
   "source": [
    "# cross validation accuracy scores for five fold\n",
    "for i in scores:\n",
    "    print(\"acc: {0:.2f}%\".format(i*100))"
   ]
  },
  {
   "cell_type": "code",
   "execution_count": 55,
   "metadata": {},
   "outputs": [
    {
     "name": "stdout",
     "output_type": "stream",
     "text": [
      "f1: 0.64\n",
      "f1: 0.61\n",
      "f1: 0.65\n",
      "f1: 0.62\n",
      "f1: 0.66\n"
     ]
    }
   ],
   "source": [
    "# cross validation f1 scores for five fold\n",
    "for i in scores1:\n",
    "    print(\"f1: {0:.2f}\".format(i))"
   ]
  },
  {
   "cell_type": "markdown",
   "metadata": {},
   "source": [
    "So as last comments, I want to point out that the NULL data that I imputed into the dataset are in the range of $\\sigma$ , therefore we can deduce that 68% is expected for this test, by eliminating some and increasing the HDI to 2$\\sigma$ or 3$\\sigma$ in the uniform imputation can some of the points that can increase the scores."
   ]
  }
 ],
 "metadata": {
  "kernelspec": {
   "display_name": "Python 3",
   "language": "python",
   "name": "python3"
  },
  "language_info": {
   "codemirror_mode": {
    "name": "ipython",
    "version": 3
   },
   "file_extension": ".py",
   "mimetype": "text/x-python",
   "name": "python",
   "nbconvert_exporter": "python",
   "pygments_lexer": "ipython3",
   "version": "3.8.5"
  }
 },
 "nbformat": 4,
 "nbformat_minor": 5
}
